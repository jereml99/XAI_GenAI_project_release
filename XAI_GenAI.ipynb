{
 "cells": [
  {
   "cell_type": "markdown",
   "metadata": {},
   "source": [
    "# Responsible AI: XAI GenAI project"
   ]
  },
  {
   "cell_type": "markdown",
   "metadata": {},
   "source": [
    "## 0. Background\n",
    "\n",
    "\n",
    "\n",
    "Based on the previous lessons on explainability, post-hoc methods are used to explain the model, such as saliency map, SmoothGrad, LRP, LIME, and SHAP. Take LRP (Layer Wise Relevance Propagation) as an example; it highlights the most relevant pixels to obtain a prediction of the class \"cat\" by backpropagating the relevance. (image source: [Montavon et. al (2016)](https://giorgiomorales.github.io/Layer-wise-Relevance-Propagation-in-Pytorch/))\n",
    "\n",
    "<!-- %%[markdown] -->\n",
    "![LRP example](images/catLRP.jpg)\n",
    "\n",
    "Another example is about text sentiment classification, here we show a case of visualizing the importance of words given the prediction of 'positive':\n",
    "\n",
    "![text example](images/textGradL2.png)\n",
    "\n",
    "where the words highlight with darker colours indicate to be more critical in predicting the sentence to be 'positive' in sentiment.\n",
    "More examples could be found [here](http://34.160.227.66/?models=sst2-tiny&dataset=sst_dev&hidden_modules=Explanations_Attention&layout=default).\n",
    "\n",
    "Both cases above require the class or the prediction of the model. But:\n",
    "\n",
    "***How do you explain a model that does not predict but generates?***\n",
    "\n",
    "In this project, we will work on explaining the generative model based on the dependency between words. We will first look at a simple example, and using Point-wise Mutual Information (PMI) to compute the saliency map of the sentence. After that we will contruct the expereiment step by step, followed by exercises and questions.\n"
   ]
  },
  {
   "cell_type": "markdown",
   "metadata": {},
   "source": [
    "## 1. A simple example to start with\n",
    "Given a sample sentence: \n",
    "> *Tokyo is the capital city of Japan.* \n",
    "\n",
    "We are going to explain this sentence by finding the dependency using a saliency map between words.\n",
    "The dependency of two words in the sentence could be measured by [Point-wise mutual information (PMI)](https://en.wikipedia.org/wiki/Pointwise_mutual_information): \n",
    "\n",
    "\n",
    "Mask two words out, e.g. \n",
    "> \\[MASK-1\\] is the captial city of \\[MASK-2\\].\n",
    "\n",
    "\n",
    "Ask the generative model to fill in the sentence 10 times, and we have:\n",
    "\n",
    "| MASK-1      | MASK-2 |\n",
    "| ----------- | ----------- |\n",
    "|    tokyo   |     japan   |\n",
    "|  paris  |     france    |\n",
    "|  london  |     england    |\n",
    "|  paris  |     france    |\n",
    "|  beijing |  china |\n",
    "|    tokyo   |     japan   |\n",
    "|  paris  |     france    |\n",
    "|  paris  |     france    |\n",
    "|  london  |     england    |\n",
    "|  beijing |  china |\n",
    "\n",
    "PMI is calculated by: \n",
    "\n",
    "$PMI(x,y)=log_2⁡ \\frac{p(\\{x,y\\}| s-\\{x,y\\})}{P(\\{x\\}|s-\\{x,y\\})P(\\{y\\}|s-\\{x,y\\})}$\n",
    "\n",
    "where $x$, $y$ represents the words that we masked out, $s$ represents the setence, and $s-\\{x,y\\}$ represents the sentences tokens after removing the words $x$ and $y$.\n",
    "\n",
    "In this example we have $PMI(Tokyo, capital) = log_2 \\frac{0.2}{0.2 * 0.2} = 2.32$\n",
    "\n",
    "Select an interesting word in the sentences; we can now compute the PMI between all other words and the chosen word using the generative model:\n",
    "(Here, we use a longer sentence and run 20 responses per word.)\n",
    "![](images/resPMI.png)\n"
   ]
  },
  {
   "cell_type": "markdown",
   "metadata": {},
   "source": [
    "## 2. Preparation\n",
    "### 2.1 Conda enviroment\n",
    "\n",
    "```\n",
    "conda env create -f environment.yml\n",
    "conda activate xai_llm\n",
    "```\n",
    "\n",
    "\n",
    "### 2.2 Download the offline LLM\n",
    "\n",
    "We use the offline LLM model from hugging face. It's approximately 5 GB.\n",
    "Download it using the comman below, and save it under `./models/`.\n",
    "```\n",
    "huggingface-cli download TheBloke/openchat-3.5-0106-GGUF openchat-3.5-0106.Q4_K_M.gguf --local-dir . --local-dir-use-symlinks False\n",
    "# credit to https://huggingface.co/TheBloke/openchat-3.5-0106-GGUF\n",
    "```"
   ]
  },
  {
   "cell_type": "markdown",
   "metadata": {},
   "source": [
    "## 3. Mask the sentence and get the responses from LLM\n",
    "### 3.1 Get the input sentence\n",
    "\n",
    "**Remember to change the anchor word index when changing the input sentence.**"
   ]
  },
  {
   "cell_type": "code",
   "execution_count": null,
   "metadata": {},
   "outputs": [],
   "source": [
    "def get_input():\n",
    "    # ideally this reads inputs from a file, now it just takes an input\n",
    "    return input(\"Enter a sentence: \")\n",
    "    \n",
    "anchor_word_idx = 0 # the index of the interested word\n",
    "prompts_per_word = 20 # number of generated responses  \n",
    "\n",
    "sentence =\"Tokyo is the capital of Japan\"\n",
    "sentence = sentence.lower()\n",
    "print(\"Sentence: \", sentence)"
   ]
  },
  {
   "cell_type": "markdown",
   "metadata": {},
   "source": [
    "### 3.2 Load the model"
   ]
  },
  {
   "cell_type": "code",
   "execution_count": null,
   "metadata": {},
   "outputs": [],
   "source": [
    "from models.ChatModel import ChatModel\n",
    "model_name = \"openchat\"\n",
    "model = ChatModel(model_name)\n",
    "print(f\"Model: {model_name}\")"
   ]
  },
  {
   "cell_type": "markdown",
   "metadata": {},
   "source": [
    "### 3.3 Run the prompts and get all the responses\n"
   ]
  },
  {
   "cell_type": "code",
   "execution_count": null,
   "metadata": {},
   "outputs": [],
   "source": [
    "from tools.command_generator import generate_prompts, prefix_prompt\n",
    "from tools.evaluate_response import get_replacements\n",
    "from tqdm import tqdm\n",
    "\n",
    "def run_prompts(model, sentence, anchor_idx, prompts_per_word=20):\n",
    "    prompts = generate_prompts(sentence, anchor_idx)\n",
    "    all_replacements = []\n",
    "    for prompt in prompts:\n",
    "        replacements = []\n",
    "        for _ in tqdm(\n",
    "            range(prompts_per_word),\n",
    "            desc=f\"Input: {prompt}\",\n",
    "        ):\n",
    "            response = model.get_response(\n",
    "                prefix_prompt(prompt),\n",
    "            ).strip()\n",
    "            if response:\n",
    "                replacement = get_replacements(prompt, response)\n",
    "                if replacement:\n",
    "                    replacements.append(tuple(replacement))\n",
    "        if len(replacements) > 0:\n",
    "            all_replacements.append(replacements)\n",
    "    return all_replacements\n",
    "\n",
    "all_responses = run_prompts(model, sentence, anchor_word_idx, prompts_per_word)"
   ]
  },
  {
   "cell_type": "markdown",
   "metadata": {},
   "source": [
    "### 3.4 EXERCISE: compute the PMI for each word\n",
    "\n",
    "$PMI(x,y)=log_2⁡ \\frac{p(\\{x,y\\}| s-\\{x,y\\})}{P(\\{x\\}|s-\\{x,y\\})P(\\{y\\}|s-\\{x,y\\})}$\n",
    "\n",
    "* Compute the $P(x)$, $P(y)$ and $P(x,y)$ first and print it out.\n",
    "* Compute the PMI for each word.\n",
    "* Visualize the result by coloring. Tips: you might need to normalize the result first. \n"
   ]
  },
  {
   "cell_type": "code",
   "execution_count": null,
   "metadata": {},
   "outputs": [],
   "source": [
    "import pandas as pd\n",
    "from IPython.display import display, Markdown\n",
    "\n",
    "def visualize_replacements(all_responses, sentence, anchor_word_idx):\n",
    "    prompts = generate_prompts(sentence, anchor_word_idx)\n",
    "    for i, replacements in enumerate(all_responses):\n",
    "        prompt = prompts[i]\n",
    "        data = []\n",
    "        \n",
    "        for j, replacement in enumerate(replacements):\n",
    "            filled_prompt = prompt.replace(\"[MASK]\", replacement[0], 1).replace(\"[MASK]\", replacement[1], 1)\n",
    "            data.append({\n",
    "                \"No.\": j + 1,  # Add numbering for replacements\n",
    "                \"Filled Prompt\": filled_prompt,\n",
    "                \"Replacements\": f\"({replacement[0]}, {replacement[1]})\"\n",
    "            })\n",
    "        \n",
    "        # Convert to DataFrame\n",
    "        df = pd.DataFrame(data)\n",
    "        \n",
    "        # Display prompt with Markdown\n",
    "        display(Markdown(f\"### Prompt: `{prompt}`\"))\n",
    "        \n",
    "        styled_df = df.style.hide(axis=\"index\")\n",
    "        display(styled_df)\n",
    "        print(\"\\n\")  # Add spacing between prompts for better separation\n",
    "\n",
    "\n",
    "\n",
    "visualize_replacements(all_responses, sentence, anchor_word_idx)"
   ]
  },
  {
   "cell_type": "code",
   "execution_count": 91,
   "metadata": {},
   "outputs": [],
   "source": [
    "def strict_similarity(word1, word2, model = None):\n",
    "    return int(word1 == word2)"
   ]
  },
  {
   "cell_type": "code",
   "execution_count": null,
   "metadata": {},
   "outputs": [
    {
     "data": {
      "text/markdown": [
       "### Debug Information for Sentence: `tokyo is the capital of japan`"
      ],
      "text/plain": [
       "<IPython.core.display.Markdown object>"
      ]
     },
     "metadata": {},
     "output_type": "display_data"
    },
    {
     "data": {
      "text/html": [
       "<div>\n",
       "<style scoped>\n",
       "    .dataframe tbody tr th:only-of-type {\n",
       "        vertical-align: middle;\n",
       "    }\n",
       "\n",
       "    .dataframe tbody tr th {\n",
       "        vertical-align: top;\n",
       "    }\n",
       "\n",
       "    .dataframe thead th {\n",
       "        text-align: right;\n",
       "    }\n",
       "</style>\n",
       "<table border=\"1\" class=\"dataframe\">\n",
       "  <thead>\n",
       "    <tr style=\"text-align: right;\">\n",
       "      <th></th>\n",
       "      <th>Word</th>\n",
       "      <th>P({x}|s - {x, y})</th>\n",
       "      <th>P({y}|s - {x, y})</th>\n",
       "      <th>P({x, y}|s - {x, y})</th>\n",
       "      <th>PMI</th>\n",
       "    </tr>\n",
       "  </thead>\n",
       "  <tbody>\n",
       "    <tr>\n",
       "      <th>0</th>\n",
       "      <td>tokyo</td>\n",
       "      <td>N/A</td>\n",
       "      <td>N/A</td>\n",
       "      <td>N/A</td>\n",
       "      <td>0.00</td>\n",
       "    </tr>\n",
       "    <tr>\n",
       "      <th>1</th>\n",
       "      <td>is</td>\n",
       "      <td>19/20</td>\n",
       "      <td>19/20</td>\n",
       "      <td>19/20</td>\n",
       "      <td>0.07</td>\n",
       "    </tr>\n",
       "    <tr>\n",
       "      <th>2</th>\n",
       "      <td>the</td>\n",
       "      <td>13/20</td>\n",
       "      <td>11/20</td>\n",
       "      <td>11/20</td>\n",
       "      <td>0.62</td>\n",
       "    </tr>\n",
       "    <tr>\n",
       "      <th>3</th>\n",
       "      <td>capital</td>\n",
       "      <td>17/20</td>\n",
       "      <td>17/20</td>\n",
       "      <td>17/20</td>\n",
       "      <td>0.23</td>\n",
       "    </tr>\n",
       "    <tr>\n",
       "      <th>4</th>\n",
       "      <td>of</td>\n",
       "      <td>18/20</td>\n",
       "      <td>16/20</td>\n",
       "      <td>16/20</td>\n",
       "      <td>0.15</td>\n",
       "    </tr>\n",
       "    <tr>\n",
       "      <th>5</th>\n",
       "      <td>japan</td>\n",
       "      <td>5/20</td>\n",
       "      <td>5/20</td>\n",
       "      <td>5/20</td>\n",
       "      <td>2.00</td>\n",
       "    </tr>\n",
       "  </tbody>\n",
       "</table>\n",
       "</div>"
      ],
      "text/plain": [
       "      Word P({x}|s - {x, y}) P({y}|s - {x, y}) P({x, y}|s - {x, y})   PMI\n",
       "0    tokyo               N/A               N/A                  N/A  0.00\n",
       "1       is             19/20             19/20                19/20  0.07\n",
       "2      the             13/20             11/20                11/20  0.62\n",
       "3  capital             17/20             17/20                17/20  0.23\n",
       "4       of             18/20             16/20                16/20  0.15\n",
       "5    japan              5/20              5/20                 5/20  2.00"
      ]
     },
     "metadata": {},
     "output_type": "display_data"
    },
    {
     "data": {
      "image/png": "[encoded data removed]",
      "text/plain": [
       "<Figure size 1000x200 with 1 Axes>"
      ]
     },
     "metadata": {},
     "output_type": "display_data"
    }
   ],
   "source": [
    "import numpy as np\n",
    "from collections import Counter\n",
    "\n",
    "\n",
    "import numpy as np\n",
    "import pandas as pd\n",
    "from collections import Counter\n",
    "from IPython.display import display, Markdown\n",
    "\n",
    "\n",
    "from typing import Callable\n",
    "\n",
    "def calculate_pmi(sentence, anchor_word_idx, all_responses, similarity_function: Callable[[str, str, object], int] = None, debug=False):\n",
    "    words = sentence.split()\n",
    "    anchor_word = words[anchor_word_idx]\n",
    "    pmi_list = []\n",
    "    if similarity_function is None:\n",
    "        similarity_function = strict_similarity\n",
    "    if debug:\n",
    "        debug_data = [] \n",
    "    response_index = 0\n",
    "    for word_index, word in enumerate(words):\n",
    "        if word_index != anchor_word_idx:\n",
    "            if anchor_word_idx < word_index:\n",
    "                x_word, y_word = anchor_word, word\n",
    "            else:\n",
    "                x_word, y_word = word, anchor_word\n",
    "            \n",
    "            sum_of_X_similaritties = np.sum([similarity_function(x_word, response[0]) for response in all_responses[response_index]])\n",
    "            sum_of_Y_similaritties = np.sum([similarity_function(y_word, response[1]) for response in all_responses[response_index]])\n",
    "            sum_of_XY_similaritties = np.sum([similarity_function(x_word, response[0]) * similarity_function(y_word, response[1]) for response in all_responses[response_index]])\n",
    "                \n",
    "            \n",
    "            total = len(all_responses[response_index])\n",
    "            p_x = sum_of_X_similaritties / total\n",
    "            p_y = sum_of_Y_similaritties / total\n",
    "            p_xy = sum_of_XY_similaritties / total\n",
    "            epsilon = 1e-10\n",
    "            pmi = np.log2((p_xy+epsilon) / (p_x * p_y + epsilon))\n",
    "            pmi_list.append(pmi)\n",
    "            response_index += 1\n",
    "            if debug:\n",
    "                debug_data.append({\n",
    "                    \"Word\": word,\n",
    "                    f\"P({{x}}|s - {{x, y}})\": f\"{sum_of_X_similaritties}/{total}\",\n",
    "                    f\"P({{y}}|s - {{x, y}})\": f\"{sum_of_Y_similaritties}/{total}\",\n",
    "                    f\"P({{x, y}}|s - {{x, y}})\": f\"{sum_of_XY_similaritties}/{total}\",\n",
    "                    \"PMI\": round(pmi, 2)\n",
    "                })\n",
    "        else:\n",
    "            pmi_list.append(0)\n",
    "            if debug:\n",
    "                debug_data.append({\n",
    "                    \"Word\": word,\n",
    "                    f\"P({{x}}|s - {{x, y}})\": \"N/A\",\n",
    "                    f\"P({{y}}|s - {{x, y}})\": \"N/A\",\n",
    "                    f\"P({{x, y}}|s - {{x, y}})\": \"N/A\",\n",
    "                    \"PMI\": 0\n",
    "                })\n",
    "    \n",
    "    if debug:\n",
    "        debug_df = pd.DataFrame(debug_data)\n",
    "        display(Markdown(f\"### Debug Information for Sentence: `{sentence}`\"))\n",
    "        display(debug_df)\n",
    "    \n",
    "    return pmi_list\n",
    "\n",
    "\n",
    "\n",
    "import matplotlib.pyplot as plt\n",
    "def visualize_pmi(pmi_list, sentence, anchor_word_idx):\n",
    "    words = sentence.split()\n",
    "    pmi_values = np.array(pmi_list)\n",
    "    \n",
    "    # Normalize the PMI values\n",
    "    norm = plt.Normalize(pmi_values[np.arange(len(pmi_values)) != anchor_word_idx].min(), \n",
    "                         pmi_values[np.arange(len(pmi_values)) != anchor_word_idx].max())\n",
    "    norm_pmi_values = norm(pmi_values)\n",
    "    \n",
    "    # Create a color map\n",
    "    cmap = plt.get_cmap('coolwarm')\n",
    "    colors = cmap(norm_pmi_values)\n",
    "    \n",
    "    # Plot the words with colors based on PMI values\n",
    "    plt.figure(figsize=(10, 2))\n",
    "    for i, word in enumerate(words):\n",
    "        color = 'green' if i == anchor_word_idx else colors[i]\n",
    "        plt.text(i, 1, word, fontsize=12, ha='center', va='center', color=color)\n",
    "        if i != anchor_word_idx:\n",
    "            plt.text(i, 0.5, f\"{pmi_values[i]:.2f}\", fontsize=10, ha='center', va='center', color='black')\n",
    "            plt.text(i, 0, f\"{norm_pmi_values[i]:.2f}\", fontsize=10, ha='center', va='center', color='black')\n",
    "    \n",
    "    # Add a quick legend\n",
    "    plt.text(-1, 1, \"Words\", fontsize=12, ha='center', va='center', color='black')\n",
    "    plt.text(-1, 0.5, \"PMI\", fontsize=10, ha='center', va='center', color='black')\n",
    "    plt.text(-1, 0, \"Norm PMI\", fontsize=10, ha='center', va='center', color='black')\n",
    "    \n",
    "    plt.xlim(-2, len(words))\n",
    "    plt.ylim(-0.5, 1.5)\n",
    "    plt.axis('off')\n",
    "    plt.show()\n",
    "\n",
    "pmi_list = calculate_pmi(sentence, anchor_word_idx, all_responses, debug=True)\n",
    "visualize_pmi(pmi_list, sentence, anchor_word_idx)"
   ]
  },
  {
   "cell_type": "markdown",
   "metadata": {},
   "source": [
    "\n",
    "## 4. EXERCISE: Try more examples; maybe come up with your own. Report the results.\n",
    "\n",
    "* Try to come up with more examples and, change the anchor word/number of responses, and observe the results. What does the explanation mean? Do you think it's a nice explanation? Why and why not? \n",
    "* What's the limitation of the current method? When does the method fail to explain? "
   ]
  },
  {
   "cell_type": "code",
   "execution_count": null,
   "metadata": {},
   "outputs": [],
   "source": [
    "def make_expermient(sentence, anchor_word_idx, prompts_per_word, model: ChatModel, similarity_function= None, debug=False):\n",
    "    sentence = sentence.lower()\n",
    "    all_responses = run_prompts(model, sentence, anchor_word_idx, prompts_per_word)\n",
    "    if debug:\n",
    "        # clean jupyter notebook output\n",
    "        from IPython.display import clear_output\n",
    "        clear_output()\n",
    "        visualize_replacements(all_responses, sentence, anchor_word_idx)\n",
    "    pmi_list = calculate_pmi(sentence, anchor_word_idx, all_responses, similarity_function, debug=debug)\n",
    "    visualize_pmi(pmi_list, sentence, anchor_word_idx)\n",
    "\n",
    "# make_expermient(sentence, anchor_word_idx, prompts_per_word, model)"
   ]
  },
  {
   "cell_type": "code",
   "execution_count": null,
   "metadata": {},
   "outputs": [],
   "source": [
    "make_expermient(\"The capital of Japan is Tokyo\", 5, 20, model, debug=True)"
   ]
  },
  {
   "cell_type": "code",
   "execution_count": null,
   "metadata": {},
   "outputs": [],
   "source": [
    "make_expermient(\"The bank by the river is closed\", 1, 20, model, debug=True)"
   ]
  },
  {
   "cell_type": "code",
   "execution_count": null,
   "metadata": {},
   "outputs": [],
   "source": [
    "make_expermient(\"Despite the storm the ship sailed toward its goal\", 4, 20, model, debug=True)"
   ]
  },
  {
   "cell_type": "markdown",
   "metadata": {},
   "source": [
    "## 5. Bonus Exercises\n",
    "### 5.1 Language pre-processing. \n",
    "In this exercise, we only lower the letters and split sentences into words; there's much more to do to pre-process the language. For example, contractions (*I'll*, *She's*, *world's*), suffix and prefix, compound words (*hard-working*). It's called word tokenization in NLP, and there are some Python packages that can do such work for us, e.g. [*TextBlob*](https://textblob.readthedocs.io/en/dev/). \n",
    "\n",
    "\n",
    "### 5.2 Better word matching\n",
    "In the above example of\n",
    "> Tokyo is the capital of Japan and a popular metropolis in the world.\n",
    "\n",
    ", GenAI never gives the specific word 'metropolis' when masking it out; instead, sometimes it provides words like 'city', which is not the same word but has a similar meaning. Instead of measuring the exact matching of certain words (i.e. 0 or 1), we can also measure the similarity of two words, e.g. the cosine similarity in word embedding, which ranges from 0 to 1. "
   ]
  },
  {
   "cell_type": "code",
   "execution_count": 89,
   "metadata": {},
   "outputs": [
    {
     "name": "stdout",
     "output_type": "stream",
     "text": [
      "Cosine Similarity: 0.9999998807907104\n"
     ]
    }
   ],
   "source": [
    "from sklearn.metrics.pairwise import cosine_similarity\n",
    "from sentence_transformers import SentenceTransformer\n",
    "\n",
    "def compute_similarity(word1, word2, model):\n",
    "    # Encode words into embeddings\n",
    "    vec1 = model.encode([word1])\n",
    "    vec2 = model.encode([word2])\n",
    "    \n",
    "    # Compute cosine similarity\n",
    "    similarity = cosine_similarity(vec1, vec2)[0][0]\n",
    "    return similarity\n",
    "\n",
    "embedding_model = SentenceTransformer('paraphrase-MiniLM-L6-v2')\n",
    "similarity = compute_similarity(\"Elo\", \"Elo\", embedding_model)\n",
    "print(f\"Cosine Similarity: {similarity}\")"
   ]
  }
 ],
 "metadata": {
  "kernelspec": {
   "display_name": "xai_llm",
   "language": "python",
   "name": "python3"
  },
  "language_info": {
   "codemirror_mode": {
    "name": "ipython",
    "version": 3
   },
   "file_extension": ".py",
   "mimetype": "text/x-python",
   "name": "python",
   "nbconvert_exporter": "python",
   "pygments_lexer": "ipython3",
   "version": "3.9.20"
  }
 },
 "nbformat": 4,
 "nbformat_minor": 2
}
