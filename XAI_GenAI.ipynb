{
 "cells": [
  {
   "cell_type": "markdown",
   "metadata": {},
   "source": [
    "# Responsible AI: XAI GenAI project"
   ]
  },
  {
   "cell_type": "markdown",
   "metadata": {},
   "source": [
    "## 0. Background\n",
    "\n",
    "\n",
    "\n",
    "Based on the previous lessons on explainability, post-hoc methods are used to explain the model, such as saliency map, SmoothGrad, LRP, LIME, and SHAP. Take LRP (Layer Wise Relevance Propagation) as an example; it highlights the most relevant pixels to obtain a prediction of the class \"cat\" by backpropagating the relevance. (image source: [Montavon et. al (2016)](https://giorgiomorales.github.io/Layer-wise-Relevance-Propagation-in-Pytorch/))\n",
    "\n",
    "<!-- %%[markdown] -->\n",
    "![LRP example](images/catLRP.jpg)\n",
    "\n",
    "Another example is about text sentiment classification, here we show a case of visualizing the importance of words given the prediction of 'positive':\n",
    "\n",
    "![text example](images/textGradL2.png)\n",
    "\n",
    "where the words highlight with darker colours indicate to be more critical in predicting the sentence to be 'positive' in sentiment.\n",
    "More examples could be found [here](http://34.160.227.66/?models=sst2-tiny&dataset=sst_dev&hidden_modules=Explanations_Attention&layout=default).\n",
    "\n",
    "Both cases above require the class or the prediction of the model. But:\n",
    "\n",
    "***How do you explain a model that does not predict but generates?***\n",
    "\n",
    "In this project, we will work on explaining the generative model based on the dependency between words. We will first look at a simple example, and using Point-wise Mutual Information (PMI) to compute the saliency map of the sentence. After that we will contruct the expereiment step by step, followed by exercises and questions.\n"
   ]
  },
  {
   "cell_type": "markdown",
   "metadata": {},
   "source": [
    "## 1. A simple example to start with\n",
    "Given a sample sentence: \n",
    "> *Tokyo is the capital city of Japan.* \n",
    "\n",
    "We are going to explain this sentence by finding the dependency using a saliency map between words.\n",
    "The dependency of two words in the sentence could be measured by [Point-wise mutual information (PMI)](https://en.wikipedia.org/wiki/Pointwise_mutual_information): \n",
    "\n",
    "\n",
    "Mask two words out, e.g. \n",
    "> \\[MASK-1\\] is the captial city of \\[MASK-2\\].\n",
    "\n",
    "\n",
    "Ask the generative model to fill in the sentence 10 times, and we have:\n",
    "\n",
    "| MASK-1      | MASK-2 |\n",
    "| ----------- | ----------- |\n",
    "|    tokyo   |     japan   |\n",
    "|  paris  |     france    |\n",
    "|  london  |     england    |\n",
    "|  paris  |     france    |\n",
    "|  beijing |  china |\n",
    "|    tokyo   |     japan   |\n",
    "|  paris  |     france    |\n",
    "|  paris  |     france    |\n",
    "|  london  |     england    |\n",
    "|  beijing |  china |\n",
    "\n",
    "PMI is calculated by: \n",
    "\n",
    "$PMI(x,y)=log_2⁡ \\frac{p(\\{x,y\\}| s-\\{x,y\\})}{P(\\{x\\}|s-\\{x,y\\})P(\\{y\\}|s-\\{x,y\\})}$\n",
    "\n",
    "where $x$, $y$ represents the words that we masked out, $s$ represents the setence, and $s-\\{x,y\\}$ represents the sentences tokens after removing the words $x$ and $y$.\n",
    "\n",
    "In this example we have $PMI(Tokyo, capital) = log_2 \\frac{0.2}{0.2 * 0.2} = 2.32$\n",
    "\n",
    "Select an interesting word in the sentences; we can now compute the PMI between all other words and the chosen word using the generative model:\n",
    "(Here, we use a longer sentence and run 20 responses per word.)\n",
    "![](images/resPMI.png)\n"
   ]
  },
  {
   "cell_type": "markdown",
   "metadata": {},
   "source": [
    "## 2. Preparation\n",
    "### 2.1 Conda enviroment\n",
    "\n",
    "```\n",
    "conda env create -f environment.yml\n",
    "conda activate xai_llm\n",
    "```\n",
    "\n",
    "\n",
    "### 2.2 Download the offline LLM\n",
    "\n",
    "We use the offline LLM model from hugging face. It's approximately 5 GB.\n",
    "Download it using the comman below, and save it under `./models/`.\n",
    "```\n",
    "huggingface-cli download TheBloke/openchat-3.5-0106-GGUF openchat-3.5-0106.Q4_K_M.gguf --local-dir . --local-dir-use-symlinks False\n",
    "# credit to https://huggingface.co/TheBloke/openchat-3.5-0106-GGUF\n",
    "```"
   ]
  },
  {
   "cell_type": "markdown",
   "metadata": {},
   "source": [
    "## 3. Mask the sentence and get the responses from LLM\n",
    "### 3.1 Get the input sentence\n",
    "\n",
    "**Remember to change the anchor word index when changing the input sentence.**"
   ]
  },
  {
   "cell_type": "code",
   "execution_count": 13,
   "metadata": {},
   "outputs": [
    {
     "name": "stdout",
     "output_type": "stream",
     "text": [
      "Sentence:  tokyo is the capital of japan\n"
     ]
    }
   ],
   "source": [
    "def get_input():\n",
    "    # ideally this reads inputs from a file, now it just takes an input\n",
    "    return input(\"Enter a sentence: \")\n",
    "    \n",
    "anchor_word_idx = 0 # the index of the interested word\n",
    "prompts_per_word = 20 # number of generated responses  \n",
    "\n",
    "sentence =\"Tokyo is the capital of Japan\"\n",
    "sentence = sentence.lower()\n",
    "print(\"Sentence: \", sentence)"
   ]
  },
  {
   "cell_type": "markdown",
   "metadata": {},
   "source": [
    "### 3.2 Load the model"
   ]
  },
  {
   "cell_type": "code",
   "execution_count": 2,
   "metadata": {},
   "outputs": [
    {
     "name": "stdout",
     "output_type": "stream",
     "text": [
      "Model: openchat\n"
     ]
    }
   ],
   "source": [
    "from models.ChatModel import ChatModel\n",
    "model_name = \"openchat\"\n",
    "model = ChatModel(model_name)\n",
    "print(f\"Model: {model_name}\")"
   ]
  },
  {
   "cell_type": "markdown",
   "metadata": {},
   "source": [
    "### 3.3 Run the prompts and get all the responses\n"
   ]
  },
  {
   "cell_type": "code",
   "execution_count": 33,
   "metadata": {},
   "outputs": [
    {
     "name": "stderr",
     "output_type": "stream",
     "text": [
      "Input: [MASK] [MASK] the capital of japan:   5%|▌         | 1/20 [00:02<00:56,  2.95s/it]"
     ]
    },
    {
     "name": "stdout",
     "output_type": "stream",
     "text": [
      " Response is not valid. ['[mask]', '[mask]', 'the', 'capital', 'of', 'japan'] ['священник', 'проповедовал', 'о', 'том', 'что', 'токио', '', 'столица', 'японии']\n"
     ]
    },
    {
     "name": "stderr",
     "output_type": "stream",
     "text": [
      "Input: [MASK] [MASK] the capital of japan:  20%|██        | 4/20 [00:04<00:13,  1.21it/s]"
     ]
    },
    {
     "name": "stdout",
     "output_type": "stream",
     "text": [
      " Response is not valid. ['[mask]', '[mask]', 'the', 'capital', 'of', 'japan'] ['tokyo']\n"
     ]
    },
    {
     "name": "stderr",
     "output_type": "stream",
     "text": [
      "Input: [MASK] [MASK] the capital of japan: 100%|██████████| 20/20 [00:17<00:00,  1.17it/s]\n",
      "Input: [MASK] is [MASK] capital of japan:   5%|▌         | 1/20 [00:00<00:18,  1.00it/s]"
     ]
    },
    {
     "name": "stdout",
     "output_type": "stream",
     "text": [
      " Response is not valid. ['[mask]', 'is', '[mask]', 'capital', 'of', 'japan'] ['existe']\n"
     ]
    },
    {
     "name": "stderr",
     "output_type": "stream",
     "text": [
      "Input: [MASK] is [MASK] capital of japan:  60%|██████    | 12/20 [00:09<00:05,  1.35it/s]"
     ]
    },
    {
     "name": "stdout",
     "output_type": "stream",
     "text": [
      " Response is not valid. ['[mask]', 'is', '[mask]', 'capital', 'of', 'japan'] ['tokyo', 'is', 'japans', 'capital']\n"
     ]
    },
    {
     "name": "stderr",
     "output_type": "stream",
     "text": [
      "Input: [MASK] is [MASK] capital of japan:  70%|███████   | 14/20 [00:11<00:04,  1.20it/s]"
     ]
    },
    {
     "name": "stdout",
     "output_type": "stream",
     "text": [
      " Response is not valid. ['[mask]', 'is', '[mask]', 'capital', 'of', 'japan'] ['tokyo', 'is', 'japans', 'capital']\n"
     ]
    },
    {
     "name": "stderr",
     "output_type": "stream",
     "text": [
      "Input: [MASK] is [MASK] capital of japan:  80%|████████  | 16/20 [00:12<00:03,  1.28it/s]"
     ]
    },
    {
     "name": "stdout",
     "output_type": "stream",
     "text": [
      " Response is not valid. ['[mask]', 'is', '[mask]', 'capital', 'of', 'japan'] ['tokyo', 'is', 'japans', 'capital']\n"
     ]
    },
    {
     "name": "stderr",
     "output_type": "stream",
     "text": [
      "Input: [MASK] is [MASK] capital of japan:  95%|█████████▌| 19/20 [00:15<00:00,  1.21it/s]"
     ]
    },
    {
     "name": "stdout",
     "output_type": "stream",
     "text": [
      " Response is not valid. ['[mask]', 'is', '[mask]', 'capital', 'of', 'japan'] ['tokyo', 'is', 'japans', 'capital']\n"
     ]
    },
    {
     "name": "stderr",
     "output_type": "stream",
     "text": [
      "Input: [MASK] is [MASK] capital of japan: 100%|██████████| 20/20 [00:16<00:00,  1.25it/s]\n",
      "Input: [MASK] is the [MASK] of japan:  20%|██        | 4/20 [00:03<00:12,  1.30it/s]"
     ]
    },
    {
     "name": "stdout",
     "output_type": "stream",
     "text": [
      " Response is not valid. ['[mask]', 'is', 'the', '[mask]', 'of', 'japan'] ['emperor', 'is', 'the', 'imperial', 'monarch']\n"
     ]
    },
    {
     "name": "stderr",
     "output_type": "stream",
     "text": [
      "Input: [MASK] is the [MASK] of japan: 100%|██████████| 20/20 [00:16<00:00,  1.23it/s]\n",
      "Input: [MASK] is the capital [MASK] japan:  10%|█         | 2/20 [00:02<00:22,  1.24s/it]"
     ]
    },
    {
     "name": "stdout",
     "output_type": "stream",
     "text": [
      " Response is not valid. ['[mask]', 'is', 'the', 'capital', '[mask]', 'japan'] ['tokyo', 'is', 'the', 'capital', '[tokyo]']\n"
     ]
    },
    {
     "name": "stderr",
     "output_type": "stream",
     "text": [
      "Input: [MASK] is the capital [MASK] japan:  90%|█████████ | 18/20 [00:15<00:01,  1.25it/s]"
     ]
    },
    {
     "name": "stdout",
     "output_type": "stream",
     "text": [
      " Response is not valid. ['[mask]', 'is', 'the', 'capital', '[mask]', 'japan'] ['tokyo', 'is', 'the', 'capital', '[tokyo]']\n"
     ]
    },
    {
     "name": "stderr",
     "output_type": "stream",
     "text": [
      "Input: [MASK] is the capital [MASK] japan:  95%|█████████▌| 19/20 [00:16<00:00,  1.14it/s]"
     ]
    },
    {
     "name": "stdout",
     "output_type": "stream",
     "text": [
      " Response is not valid. ['[mask]', 'is', 'the', 'capital', '[mask]', 'japan'] ['tokyo', 'is', 'the', 'capital', '[tōkyō]']\n"
     ]
    },
    {
     "name": "stderr",
     "output_type": "stream",
     "text": [
      "Input: [MASK] is the capital [MASK] japan: 100%|██████████| 20/20 [00:17<00:00,  1.17it/s]\n",
      "Input: [MASK] is the capital of [MASK]:   5%|▌         | 1/20 [00:00<00:12,  1.57it/s]"
     ]
    },
    {
     "name": "stdout",
     "output_type": "stream",
     "text": [
      " Response is not valid. ['[mask]', 'is', 'the', 'capital', 'of', '[mask]'] ['lado']\n"
     ]
    },
    {
     "name": "stderr",
     "output_type": "stream",
     "text": [
      "Input: [MASK] is the capital of [MASK]: 100%|██████████| 20/20 [00:15<00:00,  1.28it/s]\n"
     ]
    }
   ],
   "source": [
    "from tools.command_generator import generate_prompts, prefix_prompt\n",
    "from tools.evaluate_response import get_replacements\n",
    "from tqdm import tqdm\n",
    "\n",
    "def run_prompts(model, sentence, anchor_idx, prompts_per_word=20):\n",
    "    prompts = generate_prompts(sentence, anchor_idx)\n",
    "    all_replacements = []\n",
    "    for prompt in prompts:\n",
    "        replacements = []\n",
    "        for _ in tqdm(\n",
    "            range(prompts_per_word),\n",
    "            desc=f\"Input: {prompt}\",\n",
    "        ):\n",
    "            response = model.get_response(\n",
    "                prefix_prompt(prompt),\n",
    "            ).strip()\n",
    "            if response:\n",
    "                replacement = get_replacements(prompt, response)\n",
    "                if replacement:\n",
    "                    replacements.append(tuple(replacement))\n",
    "        if len(replacements) > 0:\n",
    "            all_replacements.append(replacements)\n",
    "    return all_replacements\n",
    "\n",
    "all_responses = run_prompts(model, sentence, anchor_word_idx, prompts_per_word)"
   ]
  },
  {
   "cell_type": "markdown",
   "metadata": {},
   "source": [
    "### 3.4 EXERCISE: compute the PMI for each word\n",
    "\n",
    "$PMI(x,y)=log_2⁡ \\frac{p(\\{x,y\\}| s-\\{x,y\\})}{P(\\{x\\}|s-\\{x,y\\})P(\\{y\\}|s-\\{x,y\\})}$\n",
    "\n",
    "* Compute the $P(x)$, $P(y)$ and $P(x,y)$ first and print it out.\n",
    "* Compute the PMI for each word.\n",
    "* Visualize the result by coloring. Tips: you might need to normalize the result first. \n"
   ]
  },
  {
   "cell_type": "code",
   "execution_count": 4,
   "metadata": {},
   "outputs": [
    {
     "name": "stdout",
     "output_type": "stream",
     "text": [
      "Prompt: [MASK] [MASK] the capital of Japan\n",
      "('\\x0e', 'tokyo is')\n",
      "('tokyo', 'is')\n",
      "('tokyo', 'is')\n",
      "('tokyo', 'is')\n",
      "('tokyo', 'is')\n",
      "('the', 'city of tokyo is')\n",
      "('tokyo', 'is')\n",
      "('tokyo', 'is')\n",
      "('tokyo', 'is')\n",
      "('tokyo', 'is')\n",
      "('tokyo', 'is')\n",
      "('tokyo', 'is')\n",
      "('tokyo', 'is')\n",
      "('tokyo', 'is')\n",
      "('tokyo', 'is')\n",
      "('tokyo', 'is')\n",
      "('tokyo', 'is')\n",
      "('tokyo', 'is')\n",
      "('tokyo', 'is')\n",
      "('tokyo', 'is')\n",
      "\n",
      "\n",
      "Prompt: [MASK] is [MASK] capital of Japan\n",
      "('chrome', 'not the')\n",
      "('tokyo', 'the')\n",
      "('tokyo', 'the')\n",
      "('tokyo', 'the')\n",
      "('tokyo', 'the')\n",
      "('tokyo', 'the')\n",
      "('tokyo', 'the')\n",
      "('tokyo', 'the')\n",
      "('tokyo', 'tokyos')\n",
      "('tokyo', 'the')\n",
      "('', '')\n",
      "('tokyo', 'the')\n",
      "('tokyo', 'tokyos')\n",
      "('tokyo', 'the')\n",
      "('tokyo', 'the')\n",
      "('tokyo', 'the')\n",
      "('tokyo', 'the')\n",
      "('tokyo', 'the')\n",
      "('tokyo', 'the')\n",
      "('tokyo', 'the')\n",
      "\n",
      "\n",
      "Prompt: [MASK] is the [MASK] of Japan\n",
      "('opyright', 'cultural property')\n",
      "('tokyo', 'capital')\n",
      "('tokyo', 'capital')\n",
      "('tokyo', 'capital')\n",
      "('tokyo', 'capital')\n",
      "('tokyo', 'capital')\n",
      "('tokyo', 'capital')\n",
      "('tokyo', 'capital')\n",
      "('tokyo', 'capital')\n",
      "('tokyo', 'capital')\n",
      "('emperor', 'monarch')\n",
      "('tokyo', 'capital')\n",
      "('tokyo', 'capital')\n",
      "('tokyo', 'capital')\n",
      "('tokyo', 'capital')\n",
      "('tokyo', 'capital')\n",
      "('emperor', 'title')\n",
      "('tokyo', 'capital')\n",
      "('tokyo', 'capital')\n",
      "('tokyo', 'capital')\n",
      "\n",
      "\n",
      "Prompt: [MASK] is the capital [MASK] Japan\n",
      "('', '')\n",
      "('tokyo', 'of')\n",
      "('tokyo', 'of')\n",
      "('tokyo', 'of')\n",
      "('tokyo', 'of')\n",
      "('tokyo', 'of')\n",
      "('tokyo', 'of')\n",
      "('tokyo', '[mask]')\n",
      "('tokyo', 'of')\n",
      "('tokyo', 'of')\n",
      "('tokyo', 'of')\n",
      "('tokyo', 'of')\n",
      "('tokyo', 'of')\n",
      "('tokyo', 'of')\n",
      "('tokyo', 'of')\n",
      "('', '')\n",
      "('tokyo', 'of')\n",
      "('tokyo', 'of')\n",
      "('', '')\n",
      "('tokyo', 'city of')\n",
      "\n",
      "\n",
      "Prompt: [MASK] is the capital of [MASK]\n",
      "('', '')\n",
      "('paris', 'france')\n",
      "('paris', 'france')\n",
      "('paris', 'france')\n",
      "('paris', 'france')\n",
      "('tokyo', 'japan')\n",
      "('tokyo', 'japan')\n",
      "('london', 'the united kingdom')\n",
      "('paris', 'france')\n",
      "('tokyo', 'japan')\n",
      "('london', 'the united kingdom')\n",
      "('paris', 'france')\n",
      "('paris', 'france')\n",
      "('paris', 'france')\n",
      "('paris', 'france')\n",
      "('london', 'england')\n",
      "('paris', 'france')\n",
      "('tokyo', 'japan')\n",
      "('london', 'the united kingdom')\n",
      "('paris', 'france')\n",
      "\n",
      "\n"
     ]
    }
   ],
   "source": [
    "for i, replacements in enumerate(all_responses):\n",
    "    print(f\"Prompt: {generate_prompts(sentence, anchor_word_idx)[i]}\")\n",
    "    for replacement in replacements:\n",
    "        print(replacement)\n",
    "    print(\"\\n\")"
   ]
  },
  {
   "cell_type": "code",
   "execution_count": null,
   "metadata": {},
   "outputs": [
    {
     "data": {
      "image/png": "[encoded data removed]",
      "text/plain": [
       "<Figure size 1000x200 with 1 Axes>"
      ]
     },
     "metadata": {},
     "output_type": "display_data"
    }
   ],
   "source": [
    "import numpy as np\n",
    "\n",
    "\n",
    "\n",
    "def caluclate_pmi(sentence, anchor_word_idx, all_responses):\n",
    "    anchor_word = sentence.split()[anchor_word_idx]\n",
    "    pmi_list = []\n",
    "    i = 0\n",
    "    for word in sentence.split():\n",
    "        if word != anchor_word:\n",
    "            frequency_of_pairs = Counter(all_responses[i])\n",
    "            frequency_of_X = Counter([pair[0] for pair in all_responses[i]])\n",
    "            frequency_of_Y = Counter([pair[1] for pair in all_responses[i]])\n",
    "            \n",
    "            p_x = frequency_of_X[anchor_word] / len(all_responses[i])\n",
    "            p_y = frequency_of_Y[word] / len(all_responses[i])\n",
    "            p_xy = frequency_of_pairs[(anchor_word, word)] / len(all_responses[i])\n",
    "            epsilon = 1e-10\n",
    "            pmi = np.log2(p_xy / (p_x * p_y + epsilon))\n",
    "            pmi_list.append(pmi)\n",
    "            i += 1\n",
    "        else:\n",
    "            pmi_list.append(0)\n",
    "    return pmi_list\n",
    "\n",
    "\n",
    "import matplotlib.pyplot as plt\n",
    "def visualize_pmi(pmi_list, sentence, anchor_word_idx):\n",
    "    words = sentence.split()\n",
    "    pmi_values = np.array(pmi_list)\n",
    "    \n",
    "    # Normalize the PMI values\n",
    "    norm = plt.Normalize(pmi_values[np.arange(len(pmi_values)) != anchor_word_idx].min(), \n",
    "                         pmi_values[np.arange(len(pmi_values)) != anchor_word_idx].max())\n",
    "    norm_pmi_values = norm(pmi_values)\n",
    "    \n",
    "    # Create a color map\n",
    "    cmap = plt.get_cmap('coolwarm')\n",
    "    colors = cmap(norm_pmi_values)\n",
    "    \n",
    "    # Plot the words with colors based on PMI values\n",
    "    plt.figure(figsize=(10, 2))\n",
    "    for i, word in enumerate(words):\n",
    "        color = 'green' if i == anchor_word_idx else colors[i]\n",
    "        plt.text(i, 1, word, fontsize=12, ha='center', va='center', color=color)\n",
    "        if i != anchor_word_idx:\n",
    "            plt.text(i, 0.5, f\"{pmi_values[i]:.2f}\", fontsize=10, ha='center', va='center', color='black')\n",
    "            plt.text(i, 0, f\"{norm_pmi_values[i]:.2f}\", fontsize=10, ha='center', va='center', color='black')\n",
    "    \n",
    "    # Add a quick legend\n",
    "    plt.text(-1, 1, \"Words\", fontsize=12, ha='center', va='center', color='black')\n",
    "    plt.text(-1, 0.5, \"PMI\", fontsize=10, ha='center', va='center', color='black')\n",
    "    plt.text(-1, 0, \"Norm PMI\", fontsize=10, ha='center', va='center', color='black')\n",
    "    \n",
    "    plt.xlim(-2, len(words))\n",
    "    plt.ylim(-0.5, 1.5)\n",
    "    plt.axis('off')\n",
    "    plt.show()\n",
    "\n",
    "pmi_list = caluclate_pmi(sentence, anchor_word_idx, all_responses)\n",
    "visualize_pmi(pmi_list, sentence, anchor_word_idx)"
   ]
  },
  {
   "cell_type": "markdown",
   "metadata": {},
   "source": [
    "\n",
    "## 4. EXERCISE: Try more examples; maybe come up with your own. Report the results.\n",
    "\n",
    "* Try to come up with more examples and, change the anchor word/number of responses, and observe the results. What does the explanation mean? Do you think it's a nice explanation? Why and why not? \n",
    "* What's the limitation of the current method? When does the method fail to explain? "
   ]
  },
  {
   "cell_type": "code",
   "execution_count": 31,
   "metadata": {},
   "outputs": [
    {
     "name": "stderr",
     "output_type": "stream",
     "text": [
      "Input: [MASK] [MASK] the capital of japan:   5%|▌         | 1/20 [00:01<00:37,  1.96s/it]"
     ]
    },
    {
     "name": "stdout",
     "output_type": "stream",
     "text": [
      " Response is not valid. ['[mask]', '[mask]', 'the', 'capital', 'of', 'japan'] ['связь', 'связь', 'столицей', 'японии']\n"
     ]
    },
    {
     "name": "stderr",
     "output_type": "stream",
     "text": [
      "Input: [MASK] [MASK] the capital of japan:  65%|██████▌   | 13/20 [00:10<00:04,  1.60it/s]"
     ]
    },
    {
     "name": "stdout",
     "output_type": "stream",
     "text": [
      " Response is not valid. ['[mask]', '[mask]', 'the', 'capital', 'of', 'japan'] ['tokyo']\n"
     ]
    },
    {
     "name": "stderr",
     "output_type": "stream",
     "text": [
      "Input: [MASK] [MASK] the capital of japan:  80%|████████  | 16/20 [00:12<00:02,  1.84it/s]"
     ]
    },
    {
     "name": "stdout",
     "output_type": "stream",
     "text": [
      " Response is not valid. ['[mask]', '[mask]', 'the', 'capital', 'of', 'japan'] ['tokyo']\n"
     ]
    },
    {
     "name": "stderr",
     "output_type": "stream",
     "text": [
      "Input: [MASK] [MASK] the capital of japan:  85%|████████▌ | 17/20 [00:12<00:01,  2.25it/s]"
     ]
    },
    {
     "name": "stdout",
     "output_type": "stream",
     "text": [
      " Response is not valid. ['[mask]', '[mask]', 'the', 'capital', 'of', 'japan'] ['tokyo']\n"
     ]
    },
    {
     "name": "stderr",
     "output_type": "stream",
     "text": [
      "Input: [MASK] [MASK] the capital of japan: 100%|██████████| 20/20 [00:14<00:00,  1.35it/s]\n",
      "Input: [MASK] is [MASK] capital of japan:   5%|▌         | 1/20 [00:00<00:15,  1.26it/s]"
     ]
    },
    {
     "name": "stdout",
     "output_type": "stream",
     "text": [
      " Response is not valid. ['[mask]', 'is', '[mask]', 'capital', 'of', 'japan'] ['existe']\n"
     ]
    },
    {
     "name": "stderr",
     "output_type": "stream",
     "text": [
      "Input: [MASK] is [MASK] capital of japan:  25%|██▌       | 5/20 [00:03<00:11,  1.32it/s]"
     ]
    },
    {
     "name": "stdout",
     "output_type": "stream",
     "text": [
      " Response is not valid. ['[mask]', 'is', '[mask]', 'capital', 'of', 'japan'] ['tokyo', 'is', 'japans', 'capital']\n"
     ]
    },
    {
     "name": "stderr",
     "output_type": "stream",
     "text": [
      "Input: [MASK] is [MASK] capital of japan:  40%|████      | 8/20 [00:06<00:09,  1.23it/s]"
     ]
    },
    {
     "name": "stdout",
     "output_type": "stream",
     "text": [
      " Response is not valid. ['[mask]', 'is', '[mask]', 'capital', 'of', 'japan'] ['tokyo', 'is', 'japans', 'capital']\n"
     ]
    },
    {
     "name": "stderr",
     "output_type": "stream",
     "text": [
      "Input: [MASK] is [MASK] capital of japan:  65%|██████▌   | 13/20 [00:09<00:05,  1.33it/s]"
     ]
    },
    {
     "name": "stdout",
     "output_type": "stream",
     "text": [
      " Response is not valid. ['[mask]', 'is', '[mask]', 'capital', 'of', 'japan'] ['tokyo', 'is', 'japans', 'capital']\n"
     ]
    },
    {
     "name": "stderr",
     "output_type": "stream",
     "text": [
      "Input: [MASK] is [MASK] capital of japan:  75%|███████▌  | 15/20 [00:11<00:03,  1.35it/s]"
     ]
    },
    {
     "name": "stdout",
     "output_type": "stream",
     "text": [
      " Response is not valid. ['[mask]', 'is', '[mask]', 'capital', 'of', 'japan'] ['tokyo', 'is', 'japans', 'capital']\n"
     ]
    },
    {
     "name": "stderr",
     "output_type": "stream",
     "text": [
      "Input: [MASK] is [MASK] capital of japan:  90%|█████████ | 18/20 [00:13<00:01,  1.26it/s]"
     ]
    },
    {
     "name": "stdout",
     "output_type": "stream",
     "text": [
      " Response is not valid. ['[mask]', 'is', '[mask]', 'capital', 'of', 'japan'] ['tokyo', 'is', 'japans', 'capital']\n"
     ]
    },
    {
     "name": "stderr",
     "output_type": "stream",
     "text": [
      "Input: [MASK] is [MASK] capital of japan:  95%|█████████▌| 19/20 [00:14<00:00,  1.30it/s]"
     ]
    },
    {
     "name": "stdout",
     "output_type": "stream",
     "text": [
      " Response is not valid. ['[mask]', 'is', '[mask]', 'capital', 'of', 'japan'] ['tokyo', 'is', 'tokyos', 'capital']\n"
     ]
    },
    {
     "name": "stderr",
     "output_type": "stream",
     "text": [
      "Input: [MASK] is [MASK] capital of japan: 100%|██████████| 20/20 [00:15<00:00,  1.29it/s]\n"
     ]
    },
    {
     "name": "stdout",
     "output_type": "stream",
     "text": [
      " Response is not valid. ['[mask]', 'is', '[mask]', 'capital', 'of', 'japan'] ['tokyo', 'is', 'japans', 'capital']\n"
     ]
    },
    {
     "name": "stderr",
     "output_type": "stream",
     "text": [
      "Input: [MASK] is the [MASK] of japan:  80%|████████  | 16/20 [00:13<00:02,  1.34it/s]"
     ]
    },
    {
     "name": "stdout",
     "output_type": "stream",
     "text": [
      " Response is not valid. ['[mask]', 'is', 'the', '[mask]', 'of', 'japan'] ['emperor', 'is', 'the', 'monarch']\n"
     ]
    },
    {
     "name": "stderr",
     "output_type": "stream",
     "text": [
      "Input: [MASK] is the [MASK] of japan: 100%|██████████| 20/20 [00:18<00:00,  1.08it/s]\n",
      "Input: [MASK] is the capital [MASK] japan:   5%|▌         | 1/20 [00:00<00:13,  1.43it/s]"
     ]
    },
    {
     "name": "stdout",
     "output_type": "stream",
     "text": [
      " Response is not valid. ['[mask]', 'is', 'the', 'capital', '[mask]', 'japan'] ['opyright']\n"
     ]
    },
    {
     "name": "stderr",
     "output_type": "stream",
     "text": [
      "Input: [MASK] is the capital [MASK] japan: 100%|██████████| 20/20 [00:15<00:00,  1.28it/s]\n"
     ]
    },
    {
     "name": "stdout",
     "output_type": "stream",
     "text": [
      " Response is not valid. ['[mask]', 'is', 'the', 'capital', '[mask]', 'japan'] ['tokyo', 'is', 'the', 'capital', '[japan]']\n"
     ]
    },
    {
     "name": "stderr",
     "output_type": "stream",
     "text": [
      "Input: [MASK] is the capital of [MASK]: 100%|██████████| 20/20 [00:15<00:00,  1.27it/s]\n"
     ]
    },
    {
     "data": {
      "image/png": "[encoded data removed]",
      "text/plain": [
       "<Figure size 1000x200 with 1 Axes>"
      ]
     },
     "metadata": {},
     "output_type": "display_data"
    }
   ],
   "source": [
    "def make_expermient(sentence, anchor_word_idx, prompts_per_word, model: ChatModel):\n",
    "    sentence = sentence.lower()\n",
    "    all_responses = run_prompts(model, sentence, anchor_word_idx, prompts_per_word)\n",
    "    pmi_list = caluclate_pmi(sentence, anchor_word_idx, all_responses)\n",
    "    visualize_pmi(pmi_list, sentence, anchor_word_idx)\n",
    "\n",
    "make_expermient(sentence, anchor_word_idx, prompts_per_word, model)"
   ]
  },
  {
   "cell_type": "code",
   "execution_count": 36,
   "metadata": {},
   "outputs": [
    {
     "name": "stderr",
     "output_type": "stream",
     "text": [
      "Input: [MASK] capital of japan is [MASK]:  10%|█         | 2/20 [00:01<00:10,  1.76it/s]"
     ]
    },
    {
     "name": "stdout",
     "output_type": "stream",
     "text": [
      " Response is not valid. ['[mask]', 'capital', 'of', 'japan', 'is', '[mask]'] ['священник']\n",
      " Response is not valid. ['[mask]', 'capital', 'of', 'japan', 'is', '[mask]'] ['tokyo']\n"
     ]
    },
    {
     "name": "stderr",
     "output_type": "stream",
     "text": [
      "Input: [MASK] capital of japan is [MASK]:  20%|██        | 4/20 [00:02<00:10,  1.52it/s]"
     ]
    },
    {
     "name": "stdout",
     "output_type": "stream",
     "text": [
      " Response is not valid. ['[mask]', 'capital', 'of', 'japan', 'is', '[mask]'] ['tokyo']\n"
     ]
    },
    {
     "name": "stderr",
     "output_type": "stream",
     "text": [
      "Input: [MASK] capital of japan is [MASK]:  30%|███       | 6/20 [00:03<00:07,  1.90it/s]"
     ]
    },
    {
     "name": "stdout",
     "output_type": "stream",
     "text": [
      " Response is not valid. ['[mask]', 'capital', 'of', 'japan', 'is', '[mask]'] ['tokyo']\n"
     ]
    },
    {
     "name": "stderr",
     "output_type": "stream",
     "text": [
      "Input: [MASK] capital of japan is [MASK]:  50%|█████     | 10/20 [00:07<00:07,  1.32it/s]"
     ]
    },
    {
     "name": "stdout",
     "output_type": "stream",
     "text": [
      " Response is not valid. ['[mask]', 'capital', 'of', 'japan', 'is', '[mask]'] ['tokyo']\n"
     ]
    },
    {
     "name": "stderr",
     "output_type": "stream",
     "text": [
      "Input: [MASK] capital of japan is [MASK]:  55%|█████▌    | 11/20 [00:08<00:07,  1.17it/s]"
     ]
    },
    {
     "name": "stdout",
     "output_type": "stream",
     "text": [
      " Response is not valid. ['[mask]', 'capital', 'of', 'japan', 'is', '[mask]'] ['tokyo', 'japans', 'capital', 'is', 'tokyo']\n"
     ]
    },
    {
     "name": "stderr",
     "output_type": "stream",
     "text": [
      "Input: [MASK] capital of japan is [MASK]: 100%|██████████| 20/20 [00:15<00:00,  1.27it/s]\n",
      "Input: the [MASK] of japan is [MASK]:   5%|▌         | 1/20 [00:01<00:21,  1.12s/it]"
     ]
    },
    {
     "name": "stdout",
     "output_type": "stream",
     "text": [
      " Response is not valid. ['the', '[mask]', 'of', 'japan', 'is', '[mask]'] ['священная']\n"
     ]
    },
    {
     "name": "stderr",
     "output_type": "stream",
     "text": [
      "Input: the [MASK] of japan is [MASK]:  35%|███▌      | 7/20 [00:09<00:17,  1.31s/it]"
     ]
    },
    {
     "name": "stdout",
     "output_type": "stream",
     "text": [
      " Response is not valid. ['the', '[mask]', 'of', 'japan', 'is', '[mask]'] ['the', 'primary', 'focus', 'of', 'japans', 'culture', 'and', 'history', 'is', 'the', 'emperor']\n"
     ]
    },
    {
     "name": "stderr",
     "output_type": "stream",
     "text": [
      "Input: the [MASK] of japan is [MASK]:  40%|████      | 8/20 [00:12<00:22,  1.84s/it]"
     ]
    },
    {
     "name": "stdout",
     "output_type": "stream",
     "text": [
      " Response is not valid. ['the', '[mask]', 'of', 'japan', 'is', '[mask]'] ['the', 'answer', 'to', 'this', 'question', 'depends', 'on', 'the', 'context', 'however', 'if', 'were', 'discussing', 'geographical', 'entities', 'or', 'landmarks', 'a', 'possible', 'completion', 'could', 'be', '']\n"
     ]
    },
    {
     "name": "stderr",
     "output_type": "stream",
     "text": [
      "Input: the [MASK] of japan is [MASK]: 100%|██████████| 20/20 [00:25<00:00,  1.25s/it]\n",
      "Input: the capital [MASK] japan is [MASK]: 100%|██████████| 20/20 [00:18<00:00,  1.11it/s]\n",
      "Input: the capital of [MASK] is [MASK]:   5%|▌         | 1/20 [00:00<00:17,  1.09it/s]"
     ]
    },
    {
     "name": "stdout",
     "output_type": "stream",
     "text": [
      " Response is not valid. ['the', 'capital', 'of', '[mask]', 'is', '[mask]'] ['kiruna']\n"
     ]
    },
    {
     "name": "stderr",
     "output_type": "stream",
     "text": [
      "Input: the capital of [MASK] is [MASK]: 100%|██████████| 20/20 [00:17<00:00,  1.13it/s]\n",
      "Input: the capital of japan [MASK] [MASK]:   5%|▌         | 1/20 [00:01<00:19,  1.01s/it]"
     ]
    },
    {
     "name": "stdout",
     "output_type": "stream",
     "text": [
      " Response is not valid. ['the', 'capital', 'of', 'japan', '[mask]', '[mask]'] ['kiriboshi']\n"
     ]
    },
    {
     "name": "stderr",
     "output_type": "stream",
     "text": [
      "Input: the capital of japan [MASK] [MASK]: 100%|██████████| 20/20 [00:21<00:00,  1.10s/it]\n",
      "/tmp/ipykernel_260921/365059950.py:19: RuntimeWarning: divide by zero encountered in log2\n",
      "  pmi = np.log2(p_xy / (p_x * p_y + epsilon))\n"
     ]
    },
    {
     "data": {
      "image/png": "[encoded data removed]",
      "text/plain": [
       "<Figure size 1000x200 with 1 Axes>"
      ]
     },
     "metadata": {},
     "output_type": "display_data"
    }
   ],
   "source": [
    "make_expermient(\"The capital of Japan is Tokyo\", 5, 20, model)"
   ]
  },
  {
   "cell_type": "code",
   "execution_count": 37,
   "metadata": {},
   "outputs": [
    {
     "name": "stderr",
     "output_type": "stream",
     "text": [
      "Input: [MASK] [MASK] by the river is closed:   5%|▌         | 1/20 [00:02<00:53,  2.80s/it]"
     ]
    },
    {
     "name": "stdout",
     "output_type": "stream",
     "text": [
      " Response is not valid. ['[mask]', '[mask]', 'by', 'the', 'river', 'is', 'closed'] ['священное', 'место', '[mask]', 'на', 'берегу', 'реки', 'закрыто', 'для', 'посещения']\n"
     ]
    },
    {
     "name": "stderr",
     "output_type": "stream",
     "text": [
      "Input: [MASK] [MASK] by the river is closed:  10%|█         | 2/20 [00:03<00:31,  1.73s/it]"
     ]
    },
    {
     "name": "stdout",
     "output_type": "stream",
     "text": [
      " Response is not valid. ['[mask]', '[mask]', 'by', 'the', 'river', 'is', 'closed'] ['the', 'bridge', 'near', 'the', 'river', 'is', 'closed']\n"
     ]
    },
    {
     "name": "stderr",
     "output_type": "stream",
     "text": [
      "Input: [MASK] [MASK] by the river is closed:  15%|█▌        | 3/20 [00:05<00:26,  1.55s/it]"
     ]
    },
    {
     "name": "stdout",
     "output_type": "stream",
     "text": [
      " Response is not valid. ['[mask]', '[mask]', 'by', 'the', 'river', 'is', 'closed'] ['the', 'park', 'and', 'the', 'bridge', 'by', 'the', 'river', 'are', 'closed']\n"
     ]
    },
    {
     "name": "stderr",
     "output_type": "stream",
     "text": [
      "Input: [MASK] [MASK] by the river is closed:  30%|███       | 6/20 [00:08<00:16,  1.20s/it]"
     ]
    },
    {
     "name": "stdout",
     "output_type": "stream",
     "text": [
      " Response is not valid. ['[mask]', '[mask]', 'by', 'the', 'river', 'is', 'closed'] ['the', 'bridge', 'over', 'the', 'river', 'is', 'closed']\n"
     ]
    },
    {
     "name": "stderr",
     "output_type": "stream",
     "text": [
      "Input: [MASK] [MASK] by the river is closed:  35%|███▌      | 7/20 [00:09<00:15,  1.18s/it]"
     ]
    },
    {
     "name": "stdout",
     "output_type": "stream",
     "text": [
      " Response is not valid. ['[mask]', '[mask]', 'by', 'the', 'river', 'is', 'closed'] ['the', 'park', 'and', 'the', 'bridge', 'by', 'the', 'river', 'are', 'closed']\n"
     ]
    },
    {
     "name": "stderr",
     "output_type": "stream",
     "text": [
      "Input: [MASK] [MASK] by the river is closed:  40%|████      | 8/20 [00:10<00:13,  1.09s/it]"
     ]
    },
    {
     "name": "stdout",
     "output_type": "stream",
     "text": [
      " Response is not valid. ['[mask]', '[mask]', 'by', 'the', 'river', 'is', 'closed'] ['the', 'bridge', 'near', 'the', 'river', 'is', 'closed']\n"
     ]
    },
    {
     "name": "stderr",
     "output_type": "stream",
     "text": [
      "Input: [MASK] [MASK] by the river is closed:  45%|████▌     | 9/20 [00:11<00:11,  1.04s/it]"
     ]
    },
    {
     "name": "stdout",
     "output_type": "stream",
     "text": [
      " Response is not valid. ['[mask]', '[mask]', 'by', 'the', 'river', 'is', 'closed'] ['the', 'bridge', 'near', 'the', 'river', 'is', 'closed']\n"
     ]
    },
    {
     "name": "stderr",
     "output_type": "stream",
     "text": [
      "Input: [MASK] [MASK] by the river is closed:  55%|█████▌    | 11/20 [00:13<00:09,  1.07s/it]"
     ]
    },
    {
     "name": "stdout",
     "output_type": "stream",
     "text": [
      " Response is not valid. ['[mask]', '[mask]', 'by', 'the', 'river', 'is', 'closed'] ['the', 'park', 'and', 'the', 'bridge', 'by', 'the', 'river', 'are', 'closed']\n"
     ]
    },
    {
     "name": "stderr",
     "output_type": "stream",
     "text": [
      "Input: [MASK] [MASK] by the river is closed:  60%|██████    | 12/20 [00:14<00:08,  1.02s/it]"
     ]
    },
    {
     "name": "stdout",
     "output_type": "stream",
     "text": [
      " Response is not valid. ['[mask]', '[mask]', 'by', 'the', 'river', 'is', 'closed'] ['the', 'bridge', 'near', 'the', 'river', 'is', 'closed']\n"
     ]
    },
    {
     "name": "stderr",
     "output_type": "stream",
     "text": [
      "Input: [MASK] [MASK] by the river is closed:  80%|████████  | 16/20 [00:18<00:04,  1.03s/it]"
     ]
    },
    {
     "name": "stdout",
     "output_type": "stream",
     "text": [
      " Response is not valid. ['[mask]', '[mask]', 'by', 'the', 'river', 'is', 'closed'] ['the', 'park', 'and', 'bridge', 'by', 'the', 'river', 'are', 'closed']\n"
     ]
    },
    {
     "name": "stderr",
     "output_type": "stream",
     "text": [
      "Input: [MASK] [MASK] by the river is closed:  85%|████████▌ | 17/20 [00:19<00:03,  1.07s/it]"
     ]
    },
    {
     "name": "stdout",
     "output_type": "stream",
     "text": [
      " Response is not valid. ['[mask]', '[mask]', 'by', 'the', 'river', 'is', 'closed'] ['the', 'park', 'and', 'bridge', 'by', 'the', 'river', 'are', 'closed']\n"
     ]
    },
    {
     "name": "stderr",
     "output_type": "stream",
     "text": [
      "Input: [MASK] [MASK] by the river is closed:  90%|█████████ | 18/20 [00:21<00:02,  1.16s/it]"
     ]
    },
    {
     "name": "stdout",
     "output_type": "stream",
     "text": [
      " Response is not valid. ['[mask]', '[mask]', 'by', 'the', 'river', 'is', 'closed'] ['the', 'park', 'and', 'the', 'bridge', 'by', 'the', 'river', 'are', 'closed']\n"
     ]
    },
    {
     "name": "stderr",
     "output_type": "stream",
     "text": [
      "Input: [MASK] [MASK] by the river is closed: 100%|██████████| 20/20 [00:23<00:00,  1.16s/it]\n"
     ]
    },
    {
     "name": "stdout",
     "output_type": "stream",
     "text": [
      " Response is not valid. ['[mask]', '[mask]', 'by', 'the', 'river', 'is', 'closed'] ['the', 'park', 'and', 'bridge', 'by', 'the', 'river', 'are', 'closed']\n"
     ]
    },
    {
     "name": "stderr",
     "output_type": "stream",
     "text": [
      "Input: the [MASK] [MASK] the river is closed:   5%|▌         | 1/20 [00:02<00:41,  2.17s/it]"
     ]
    },
    {
     "name": "stdout",
     "output_type": "stream",
     "text": [
      " Response is not valid. ['the', '[mask]', '[mask]', 'the', 'river', 'is', 'closed'] ['святилище', '[mask]', 'реки', 'закрыто']\n"
     ]
    },
    {
     "name": "stderr",
     "output_type": "stream",
     "text": [
      "Input: the [MASK] [MASK] the river is closed:  10%|█         | 2/20 [00:02<00:24,  1.37s/it]"
     ]
    },
    {
     "name": "stdout",
     "output_type": "stream",
     "text": [
      " Response is not valid. ['the', '[mask]', '[mask]', 'the', 'river', 'is', 'closed'] ['the', 'government', 'authorities', 'closed', 'the', 'river']\n"
     ]
    },
    {
     "name": "stderr",
     "output_type": "stream",
     "text": [
      "Input: the [MASK] [MASK] the river is closed:  15%|█▌        | 3/20 [00:04<00:25,  1.52s/it]"
     ]
    },
    {
     "name": "stdout",
     "output_type": "stream",
     "text": [
      " Response is not valid. ['the', '[mask]', '[mask]', 'the', 'river', 'is', 'closed'] ['the', 'city', 'authorities', 'have', 'temporarily', 'closed', 'the', 'bridge', 'over', 'the', 'river']\n"
     ]
    },
    {
     "name": "stderr",
     "output_type": "stream",
     "text": [
      "Input: the [MASK] [MASK] the river is closed:  30%|███       | 6/20 [00:07<00:15,  1.14s/it]"
     ]
    },
    {
     "name": "stdout",
     "output_type": "stream",
     "text": [
      " Response is not valid. ['the', '[mask]', '[mask]', 'the', 'river', 'is', 'closed'] ['the', 'city', 'authorities', 'have', 'closed', 'the', 'river']\n"
     ]
    },
    {
     "name": "stderr",
     "output_type": "stream",
     "text": [
      "Input: the [MASK] [MASK] the river is closed:  35%|███▌      | 7/20 [00:08<00:13,  1.06s/it]"
     ]
    },
    {
     "name": "stdout",
     "output_type": "stream",
     "text": [
      " Response is not valid. ['the', '[mask]', '[mask]', 'the', 'river', 'is', 'closed'] ['the', 'authorities', 'shut', 'down', 'the', 'river']\n"
     ]
    },
    {
     "name": "stderr",
     "output_type": "stream",
     "text": [
      "Input: the [MASK] [MASK] the river is closed:  45%|████▌     | 9/20 [00:10<00:11,  1.03s/it]"
     ]
    },
    {
     "name": "stdout",
     "output_type": "stream",
     "text": [
      " Response is not valid. ['the', '[mask]', '[mask]', 'the', 'river', 'is', 'closed'] ['the', 'authorities', 'have', 'closed', 'the', 'river', 'for', 'swimming']\n"
     ]
    },
    {
     "name": "stderr",
     "output_type": "stream",
     "text": [
      "Input: the [MASK] [MASK] the river is closed:  50%|█████     | 10/20 [00:11<00:09,  1.03it/s]"
     ]
    },
    {
     "name": "stdout",
     "output_type": "stream",
     "text": [
      " Response is not valid. ['the', '[mask]', '[mask]', 'the', 'river', 'is', 'closed'] ['the', 'government', 'has', 'closed', 'the', 'river']\n"
     ]
    },
    {
     "name": "stderr",
     "output_type": "stream",
     "text": [
      "Input: the [MASK] [MASK] the river is closed:  60%|██████    | 12/20 [00:13<00:08,  1.03s/it]"
     ]
    },
    {
     "name": "stdout",
     "output_type": "stream",
     "text": [
      " Response is not valid. ['the', '[mask]', '[mask]', 'the', 'river', 'is', 'closed'] ['the', 'authorities', 'have', 'closed', 'the', 'river']\n"
     ]
    },
    {
     "name": "stderr",
     "output_type": "stream",
     "text": [
      "Input: the [MASK] [MASK] the river is closed:  70%|███████   | 14/20 [00:15<00:06,  1.02s/it]"
     ]
    },
    {
     "name": "stdout",
     "output_type": "stream",
     "text": [
      " Response is not valid. ['the', '[mask]', '[mask]', 'the', 'river', 'is', 'closed'] ['the', 'local', 'authorities', 'have', 'closed', 'the', 'river']\n"
     ]
    },
    {
     "name": "stderr",
     "output_type": "stream",
     "text": [
      "Input: the [MASK] [MASK] the river is closed:  80%|████████  | 16/20 [00:17<00:03,  1.02it/s]"
     ]
    },
    {
     "name": "stdout",
     "output_type": "stream",
     "text": [
      " Response is not valid. ['the', '[mask]', '[mask]', 'the', 'river', 'is', 'closed'] ['the', 'government', 'has', 'closed', 'the', 'river']\n"
     ]
    },
    {
     "name": "stderr",
     "output_type": "stream",
     "text": [
      "Input: the [MASK] [MASK] the river is closed: 100%|██████████| 20/20 [00:21<00:00,  1.07s/it]\n",
      "Input: the [MASK] by [MASK] river is closed:   5%|▌         | 1/20 [00:01<00:23,  1.23s/it]"
     ]
    },
    {
     "name": "stdout",
     "output_type": "stream",
     "text": [
      " Response is not valid. ['the', '[mask]', 'by', '[mask]', 'river', 'is', 'closed'] ['chromeplated', 'bridge', 'collapsed']\n"
     ]
    },
    {
     "name": "stderr",
     "output_type": "stream",
     "text": [
      "Input: the [MASK] by [MASK] river is closed:  20%|██        | 4/20 [00:04<00:18,  1.14s/it]"
     ]
    },
    {
     "name": "stdout",
     "output_type": "stream",
     "text": [
      " Response is not valid. ['the', '[mask]', 'by', '[mask]', 'river', 'is', 'closed'] ['the', 'old', 'bridge', 'over', 'the', 'mississippi', 'river', 'is', 'closed']\n"
     ]
    },
    {
     "name": "stderr",
     "output_type": "stream",
     "text": [
      "Input: the [MASK] by [MASK] river is closed:  25%|██▌       | 5/20 [00:05<00:17,  1.17s/it]"
     ]
    },
    {
     "name": "stdout",
     "output_type": "stream",
     "text": [
      " Response is not valid. ['the', '[mask]', 'by', '[mask]', 'river', 'is', 'closed'] ['the', 'eastern', 'bank', 'of', 'the', 'amazon', 'river', 'is', 'closed']\n"
     ]
    },
    {
     "name": "stderr",
     "output_type": "stream",
     "text": [
      "Input: the [MASK] by [MASK] river is closed:  35%|███▌      | 7/20 [00:07<00:14,  1.12s/it]"
     ]
    },
    {
     "name": "stdout",
     "output_type": "stream",
     "text": [
      " Response is not valid. ['the', '[mask]', 'by', '[mask]', 'river', 'is', 'closed'] ['the', 'north', 'side', 'of', 'the', 'thames', 'river', 'is', 'closed']\n"
     ]
    },
    {
     "name": "stderr",
     "output_type": "stream",
     "text": [
      "Input: the [MASK] by [MASK] river is closed:  40%|████      | 8/20 [00:09<00:13,  1.12s/it]"
     ]
    },
    {
     "name": "stdout",
     "output_type": "stream",
     "text": [
      " Response is not valid. ['the', '[mask]', 'by', '[mask]', 'river', 'is', 'closed'] ['the', 'north', 'side', 'of', 'the', 'thames', 'river', 'is', 'closed']\n"
     ]
    },
    {
     "name": "stderr",
     "output_type": "stream",
     "text": [
      "Input: the [MASK] by [MASK] river is closed:  45%|████▌     | 9/20 [00:10<00:12,  1.09s/it]"
     ]
    },
    {
     "name": "stdout",
     "output_type": "stream",
     "text": [
      " Response is not valid. ['the', '[mask]', 'by', '[mask]', 'river', 'is', 'closed'] ['the', 'east', 'bank', 'of', 'the', 'mississippi', 'river', 'is', 'closed']\n"
     ]
    },
    {
     "name": "stderr",
     "output_type": "stream",
     "text": [
      "Input: the [MASK] by [MASK] river is closed:  55%|█████▌    | 11/20 [00:12<00:09,  1.08s/it]"
     ]
    },
    {
     "name": "stdout",
     "output_type": "stream",
     "text": [
      " Response is not valid. ['the', '[mask]', 'by', '[mask]', 'river', 'is', 'closed'] ['the', 'bridge', 'near', 'the', 'amazon', 'river', 'is', 'closed']\n"
     ]
    },
    {
     "name": "stderr",
     "output_type": "stream",
     "text": [
      "Input: the [MASK] by [MASK] river is closed:  65%|██████▌   | 13/20 [00:14<00:07,  1.07s/it]"
     ]
    },
    {
     "name": "stdout",
     "output_type": "stream",
     "text": [
      " Response is not valid. ['the', '[mask]', 'by', '[mask]', 'river', 'is', 'closed'] ['the', 'lake', 'near', 'the', 'river', 'is', 'closed']\n"
     ]
    },
    {
     "name": "stderr",
     "output_type": "stream",
     "text": [
      "Input: the [MASK] by [MASK] river is closed:  70%|███████   | 14/20 [00:15<00:06,  1.04s/it]"
     ]
    },
    {
     "name": "stdout",
     "output_type": "stream",
     "text": [
      " Response is not valid. ['the', '[mask]', 'by', '[mask]', 'river', 'is', 'closed'] ['the', 'bridge', 'over', 'the', 'mississippi', 'river', 'is', 'closed']\n"
     ]
    },
    {
     "name": "stderr",
     "output_type": "stream",
     "text": [
      "Input: the [MASK] by [MASK] river is closed:  80%|████████  | 16/20 [00:17<00:04,  1.02s/it]"
     ]
    },
    {
     "name": "stdout",
     "output_type": "stream",
     "text": [
      " Response is not valid. ['the', '[mask]', 'by', '[mask]', 'river', 'is', 'closed'] ['the', 'beach', 'near', 'the', 'thames', 'river', 'is', 'closed']\n"
     ]
    },
    {
     "name": "stderr",
     "output_type": "stream",
     "text": [
      "Input: the [MASK] by [MASK] river is closed:  85%|████████▌ | 17/20 [00:18<00:03,  1.01s/it]"
     ]
    },
    {
     "name": "stdout",
     "output_type": "stream",
     "text": [
      " Response is not valid. ['the', '[mask]', 'by', '[mask]', 'river', 'is', 'closed'] ['the', 'bridge', 'over', 'the', 'mississippi', 'river', 'is', 'closed']\n"
     ]
    },
    {
     "name": "stderr",
     "output_type": "stream",
     "text": [
      "Input: the [MASK] by [MASK] river is closed: 100%|██████████| 20/20 [00:21<00:00,  1.08s/it]\n",
      "Input: the [MASK] by the [MASK] is closed: 100%|██████████| 20/20 [00:18<00:00,  1.07it/s]\n",
      "Input: the [MASK] by the river [MASK] closed:   5%|▌         | 1/20 [00:01<00:23,  1.25s/it]"
     ]
    },
    {
     "name": "stdout",
     "output_type": "stream",
     "text": [
      " Response is not valid. ['the', '[mask]', 'by', 'the', 'river', '[mask]', 'closed'] ['i', 'the', 'bridge', 'by', 'the', 'river', 'opened']\n"
     ]
    },
    {
     "name": "stderr",
     "output_type": "stream",
     "text": [
      "Input: the [MASK] by the river [MASK] closed:  10%|█         | 2/20 [00:02<00:17,  1.04it/s]"
     ]
    },
    {
     "name": "stdout",
     "output_type": "stream",
     "text": [
      " Response is not valid. ['the', '[mask]', 'by', 'the', 'river', '[mask]', 'closed'] ['the', 'bridge', 'by', 'the', 'river', 'collapsed']\n"
     ]
    },
    {
     "name": "stderr",
     "output_type": "stream",
     "text": [
      "Input: the [MASK] by the river [MASK] closed:  25%|██▌       | 5/20 [00:04<00:14,  1.03it/s]"
     ]
    },
    {
     "name": "stdout",
     "output_type": "stream",
     "text": [
      " Response is not valid. ['the', '[mask]', 'by', 'the', 'river', '[mask]', 'closed'] ['the', 'market', 'by', 'the', 'river', 'opened']\n"
     ]
    },
    {
     "name": "stderr",
     "output_type": "stream",
     "text": [
      "Input: the [MASK] by the river [MASK] closed:  40%|████      | 8/20 [00:07<00:10,  1.15it/s]"
     ]
    },
    {
     "name": "stdout",
     "output_type": "stream",
     "text": [
      " Response is not valid. ['the', '[mask]', 'by', 'the', 'river', '[mask]', 'closed'] ['the', 'bridge', 'by', 'the', 'river', 'collapsed']\n"
     ]
    },
    {
     "name": "stderr",
     "output_type": "stream",
     "text": [
      "Input: the [MASK] by the river [MASK] closed:  55%|█████▌    | 11/20 [00:10<00:07,  1.19it/s]"
     ]
    },
    {
     "name": "stdout",
     "output_type": "stream",
     "text": [
      " Response is not valid. ['the', '[mask]', 'by', 'the', 'river', '[mask]', 'closed'] ['the', 'bridge', 'by', 'the', 'river', 'collapsed']\n"
     ]
    },
    {
     "name": "stderr",
     "output_type": "stream",
     "text": [
      "Input: the [MASK] by the river [MASK] closed:  60%|██████    | 12/20 [00:10<00:06,  1.21it/s]"
     ]
    },
    {
     "name": "stdout",
     "output_type": "stream",
     "text": [
      " Response is not valid. ['the', '[mask]', 'by', 'the', 'river', '[mask]', 'closed'] ['the', 'bridge', 'by', 'the', 'river', 'collapsed']\n"
     ]
    },
    {
     "name": "stderr",
     "output_type": "stream",
     "text": [
      "Input: the [MASK] by the river [MASK] closed:  65%|██████▌   | 13/20 [00:11<00:05,  1.24it/s]"
     ]
    },
    {
     "name": "stdout",
     "output_type": "stream",
     "text": [
      " Response is not valid. ['the', '[mask]', 'by', 'the', 'river', '[mask]', 'closed'] ['the', 'market', 'by', 'the', 'river', 'opened']\n"
     ]
    },
    {
     "name": "stderr",
     "output_type": "stream",
     "text": [
      "Input: the [MASK] by the river [MASK] closed:  80%|████████  | 16/20 [00:14<00:03,  1.19it/s]"
     ]
    },
    {
     "name": "stdout",
     "output_type": "stream",
     "text": [
      " Response is not valid. ['the', '[mask]', 'by', 'the', 'river', '[mask]', 'closed'] ['the', 'bridge', 'by', 'the', 'river', 'collapsed']\n"
     ]
    },
    {
     "name": "stderr",
     "output_type": "stream",
     "text": [
      "Input: the [MASK] by the river [MASK] closed:  85%|████████▌ | 17/20 [00:15<00:02,  1.14it/s]"
     ]
    },
    {
     "name": "stdout",
     "output_type": "stream",
     "text": [
      " Response is not valid. ['the', '[mask]', 'by', 'the', 'river', '[mask]', 'closed'] ['the', 'park', 'by', 'the', 'river', 'opened']\n"
     ]
    },
    {
     "name": "stderr",
     "output_type": "stream",
     "text": [
      "Input: the [MASK] by the river [MASK] closed:  90%|█████████ | 18/20 [00:15<00:01,  1.19it/s]"
     ]
    },
    {
     "name": "stdout",
     "output_type": "stream",
     "text": [
      " Response is not valid. ['the', '[mask]', 'by', 'the', 'river', '[mask]', 'closed'] ['the', 'bridge', 'by', 'the', 'river', 'collapsed']\n"
     ]
    },
    {
     "name": "stderr",
     "output_type": "stream",
     "text": [
      "Input: the [MASK] by the river [MASK] closed: 100%|██████████| 20/20 [00:17<00:00,  1.13it/s]\n",
      "Input: the [MASK] by the river is [MASK]:   5%|▌         | 1/20 [00:01<00:26,  1.37s/it]"
     ]
    },
    {
     "name": "stdout",
     "output_type": "stream",
     "text": [
      " Response is not valid. ['the', '[mask]', 'by', 'the', 'river', 'is', '[mask]'] ['lado', 'del', 'río', 'es', 'hermoso']\n"
     ]
    },
    {
     "name": "stderr",
     "output_type": "stream",
     "text": [
      "Input: the [MASK] by the river is [MASK]: 100%|██████████| 20/20 [00:19<00:00,  1.05it/s]\n",
      "/tmp/ipykernel_260921/365059950.py:19: RuntimeWarning: divide by zero encountered in log2\n",
      "  pmi = np.log2(p_xy / (p_x * p_y + epsilon))\n"
     ]
    },
    {
     "data": {
      "image/png": "[encoded data removed]",
      "text/plain": [
       "<Figure size 1000x200 with 1 Axes>"
      ]
     },
     "metadata": {},
     "output_type": "display_data"
    }
   ],
   "source": [
    "make_expermient(\"The bank by the river is closed\", 1, 20, model)"
   ]
  },
  {
   "cell_type": "code",
   "execution_count": null,
   "metadata": {},
   "outputs": [],
   "source": [
    "make_expermient(\"Despite the storm the ship sailed toward its goal\", 4, 20, model)"
   ]
  },
  {
   "cell_type": "markdown",
   "metadata": {},
   "source": [
    "## 5. Bonus Exercises\n",
    "### 5.1 Language pre-processing. \n",
    "In this exercise, we only lower the letters and split sentences into words; there's much more to do to pre-process the language. For example, contractions (*I'll*, *She's*, *world's*), suffix and prefix, compound words (*hard-working*). It's called word tokenization in NLP, and there are some Python packages that can do such work for us, e.g. [*TextBlob*](https://textblob.readthedocs.io/en/dev/). \n",
    "\n",
    "\n",
    "### 5.2 Better word matching\n",
    "In the above example of\n",
    "> Tokyo is the capital of Japan and a popular metropolis in the world.\n",
    "\n",
    ", GenAI never gives the specific word 'metropolis' when masking it out; instead, sometimes it provides words like 'city', which is not the same word but has a similar meaning. Instead of measuring the exact matching of certain words (i.e. 0 or 1), we can also measure the similarity of two words, e.g. the cosine similarity in word embedding, which ranges from 0 to 1. "
   ]
  }
 ],
 "metadata": {
  "kernelspec": {
   "display_name": "xai_llm",
   "language": "python",
   "name": "python3"
  },
  "language_info": {
   "codemirror_mode": {
    "name": "ipython",
    "version": 3
   },
   "file_extension": ".py",
   "mimetype": "text/x-python",
   "name": "python",
   "nbconvert_exporter": "python",
   "pygments_lexer": "ipython3",
   "version": "3.9.19"
  }
 },
 "nbformat": 4,
 "nbformat_minor": 2
}
